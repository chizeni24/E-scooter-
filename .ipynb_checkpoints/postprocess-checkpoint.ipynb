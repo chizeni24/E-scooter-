{
 "cells": [
  {
   "cell_type": "code",
   "execution_count": 1,
   "metadata": {},
   "outputs": [
    {
     "data": {
      "text/html": [
       "<div>\n",
       "<style scoped>\n",
       "    .dataframe tbody tr th:only-of-type {\n",
       "        vertical-align: middle;\n",
       "    }\n",
       "\n",
       "    .dataframe tbody tr th {\n",
       "        vertical-align: top;\n",
       "    }\n",
       "\n",
       "    .dataframe thead th {\n",
       "        text-align: right;\n",
       "    }\n",
       "</style>\n",
       "<table border=\"1\" class=\"dataframe\">\n",
       "  <thead>\n",
       "    <tr style=\"text-align: right;\">\n",
       "      <th></th>\n",
       "      <th>TripID</th>\n",
       "      <th>StartDate</th>\n",
       "      <th>StartTime</th>\n",
       "      <th>EndDate</th>\n",
       "      <th>EndTime</th>\n",
       "      <th>TripDuration</th>\n",
       "      <th>TripDistance</th>\n",
       "      <th>StartLatitude</th>\n",
       "      <th>StartLongitude</th>\n",
       "      <th>EndLatitude</th>\n",
       "      <th>EndLongitude</th>\n",
       "      <th>DayOfWeek</th>\n",
       "      <th>HourNum</th>\n",
       "    </tr>\n",
       "  </thead>\n",
       "  <tbody>\n",
       "    <tr>\n",
       "      <th>0</th>\n",
       "      <td>0000045c-2677-3a7d-4b73-cad99a57</td>\n",
       "      <td>6/26/2019</td>\n",
       "      <td>19:30</td>\n",
       "      <td>6/26/2019</td>\n",
       "      <td>19:30</td>\n",
       "      <td>3</td>\n",
       "      <td>0.000</td>\n",
       "      <td>38.253</td>\n",
       "      <td>-85.756</td>\n",
       "      <td>38.253</td>\n",
       "      <td>-85.755</td>\n",
       "      <td>4</td>\n",
       "      <td>19</td>\n",
       "    </tr>\n",
       "    <tr>\n",
       "      <th>1</th>\n",
       "      <td>0000487b-92e6-50d6-7569-42ed3818</td>\n",
       "      <td>9/22/2019</td>\n",
       "      <td>14:30</td>\n",
       "      <td>9/22/2019</td>\n",
       "      <td>14:30</td>\n",
       "      <td>5</td>\n",
       "      <td>0.000</td>\n",
       "      <td>38.203</td>\n",
       "      <td>-85.752</td>\n",
       "      <td>38.204</td>\n",
       "      <td>-85.751</td>\n",
       "      <td>1</td>\n",
       "      <td>14</td>\n",
       "    </tr>\n",
       "    <tr>\n",
       "      <th>2</th>\n",
       "      <td>00006088-2579-e0d0-6a30-a15bb878</td>\n",
       "      <td>8/21/2019</td>\n",
       "      <td>17:30</td>\n",
       "      <td>8/21/2019</td>\n",
       "      <td>17:30</td>\n",
       "      <td>6</td>\n",
       "      <td>0.330</td>\n",
       "      <td>38.259</td>\n",
       "      <td>-85.733</td>\n",
       "      <td>38.265</td>\n",
       "      <td>-85.739</td>\n",
       "      <td>4</td>\n",
       "      <td>17</td>\n",
       "    </tr>\n",
       "    <tr>\n",
       "      <th>3</th>\n",
       "      <td>00008c1a-899b-8596-970f-9f6bf495</td>\n",
       "      <td>7/3/2019</td>\n",
       "      <td>11:00</td>\n",
       "      <td>7/3/2019</td>\n",
       "      <td>11:15</td>\n",
       "      <td>6</td>\n",
       "      <td>0.640</td>\n",
       "      <td>38.217</td>\n",
       "      <td>-85.757</td>\n",
       "      <td>38.221</td>\n",
       "      <td>-85.763</td>\n",
       "      <td>4</td>\n",
       "      <td>11</td>\n",
       "    </tr>\n",
       "    <tr>\n",
       "      <th>4</th>\n",
       "      <td>00009301-3225-2aea-a84a-165a480a</td>\n",
       "      <td>11/22/2019</td>\n",
       "      <td>10:45</td>\n",
       "      <td>11/22/2019</td>\n",
       "      <td>11:00</td>\n",
       "      <td>7</td>\n",
       "      <td>0.599</td>\n",
       "      <td>38.215</td>\n",
       "      <td>-85.759</td>\n",
       "      <td>38.222</td>\n",
       "      <td>-85.764</td>\n",
       "      <td>6</td>\n",
       "      <td>10</td>\n",
       "    </tr>\n",
       "  </tbody>\n",
       "</table>\n",
       "</div>"
      ],
      "text/plain": [
       "                             TripID   StartDate StartTime     EndDate EndTime  \\\n",
       "0  0000045c-2677-3a7d-4b73-cad99a57   6/26/2019     19:30   6/26/2019   19:30   \n",
       "1  0000487b-92e6-50d6-7569-42ed3818   9/22/2019     14:30   9/22/2019   14:30   \n",
       "2  00006088-2579-e0d0-6a30-a15bb878   8/21/2019     17:30   8/21/2019   17:30   \n",
       "3  00008c1a-899b-8596-970f-9f6bf495    7/3/2019     11:00    7/3/2019   11:15   \n",
       "4  00009301-3225-2aea-a84a-165a480a  11/22/2019     10:45  11/22/2019   11:00   \n",
       "\n",
       "   TripDuration  TripDistance  StartLatitude  StartLongitude  EndLatitude  \\\n",
       "0             3         0.000         38.253         -85.756       38.253   \n",
       "1             5         0.000         38.203         -85.752       38.204   \n",
       "2             6         0.330         38.259         -85.733       38.265   \n",
       "3             6         0.640         38.217         -85.757       38.221   \n",
       "4             7         0.599         38.215         -85.759       38.222   \n",
       "\n",
       "   EndLongitude  DayOfWeek  HourNum  \n",
       "0       -85.755          4       19  \n",
       "1       -85.751          1       14  \n",
       "2       -85.739          4       17  \n",
       "3       -85.763          4       11  \n",
       "4       -85.764          6       10  "
      ]
     },
     "execution_count": 1,
     "metadata": {},
     "output_type": "execute_result"
    }
   ],
   "source": [
    "import numpy as np\n",
    "import pandas as pd\n",
    "import matplotlib.pyplot as plt \n",
    "####------Open In cvs and create a dataframe-----####\n",
    "df = pd.read_csv(\"Escooter.csv\")\n",
    "df.head()"
   ]
  },
  {
   "cell_type": "code",
   "execution_count": 2,
   "metadata": {},
   "outputs": [],
   "source": [
    "#Convert the StartDate and Endate to pandas date format\n",
    "df['StartDate'] =pd.to_datetime(df.StartDate)\n",
    "df['EndDate'] =pd.to_datetime(df.EndDate)\n",
    "df.StartTime= df.StartTime + ':00'\n",
    "df.EndTime= df.EndTime + ':00'\n",
    "#df['StartTime'] = pd.to_timedelta(df.StartTime)\n",
    "#df['EndTime'] = pd.to_timedelta(df.EndTime)\n",
    "\n",
    "# This now sorts in date order\n",
    "df = df.sort_values(by='StartDate') \n",
    "df.reset_index(inplace=True, drop=True)\n"
   ]
  },
  {
   "cell_type": "code",
   "execution_count": 3,
   "metadata": {},
   "outputs": [],
   "source": [
    "#create a function for choosing date.\n",
    "def date_splitter(dataframe,start_date,end_date):\n",
    "    start_date = '2018-08-09'\n",
    "    end_date = '2018-08-30'\n",
    "    name = (df['StartDate'] >= start_date) & (df['StartDate'] <= end_date)\n",
    "    return name\n",
    "\n",
    "#Give the start date and end date \n",
    "start_date = '2018-08-09'\n",
    "end_date ='2018-08-30'\n",
    "\n",
    "#call the date function to split\n",
    "mask = date_splitter(df,start_date,end_date)        \n"
   ]
  },
  {
   "cell_type": "code",
   "execution_count": 11,
   "metadata": {},
   "outputs": [
    {
     "name": "stdout",
     "output_type": "stream",
     "text": [
      "22\n"
     ]
    }
   ],
   "source": [
    "#Create new dataframe with the choosen dates from original dataframe\n",
    "df_one = df.loc[mask]\n",
    "#df_one.iloc[-1]\n",
    "unique = df_one['StartDate'].unique()\n",
    "print(len(unique))"
   ]
  },
  {
   "cell_type": "code",
   "execution_count": 20,
   "metadata": {},
   "outputs": [
    {
     "data": {
      "image/png": "[encoded data removed]",
      "text/plain": [
       "<Figure size 1080x1080 with 1 Axes>"
      ]
     },
     "metadata": {},
     "output_type": "display_data"
    }
   ],
   "source": [
    "import seaborn as sns\n",
    "import matplotlib.pyplot as plt\n",
    "\n",
    "sns.set_theme(style='darkgrid')\n",
    "\n",
    "plt.figure(figsize=(15,15))\n",
    "ax = sns.countplot(x='StartDate',data=df_one)\n",
    "loc, labels = plt.xticks()\n",
    "ax.set_xticklabels(labels, rotation=90)\n",
    "\n",
    "\n",
    "plt.show()"
   ]
  },
  {
   "cell_type": "code",
   "execution_count": null,
   "metadata": {},
   "outputs": [],
   "source": [
    "freq = df_one['StartDate']\n",
    "type(freq)\n",
    "f = pd.DataFrame(freq)\n",
    "f.sort_values(by='StartDate')\n"
   ]
  },
  {
   "cell_type": "code",
   "execution_count": null,
   "metadata": {},
   "outputs": [],
   "source": []
  }
 ],
 "metadata": {
  "kernelspec": {
   "display_name": "Python 3",
   "language": "python",
   "name": "python3"
  },
  "language_info": {
   "codemirror_mode": {
    "name": "ipython",
    "version": 3
   },
   "file_extension": ".py",
   "mimetype": "text/x-python",
   "name": "python",
   "nbconvert_exporter": "python",
   "pygments_lexer": "ipython3",
   "version": "3.7.7"
  }
 },
 "nbformat": 4,
 "nbformat_minor": 4
}

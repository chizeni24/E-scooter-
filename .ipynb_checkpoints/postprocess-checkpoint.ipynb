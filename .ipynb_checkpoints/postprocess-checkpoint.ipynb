{
 "cells": [
  {
   "cell_type": "code",
   "execution_count": 1,
   "metadata": {},
   "outputs": [],
   "source": [
    "import numpy as np\n",
    "import pandas as pd\n",
    "import matplotlib.pyplot as plt \n",
    "####------Open In cvs and create a dataframe-----####\n",
    "df = pd.read_csv(\"Escooter.csv\")\n"
   ]
  },
  {
   "cell_type": "code",
   "execution_count": 2,
   "metadata": {},
   "outputs": [
    {
     "data": {
      "text/html": [
       "<div>\n",
       "<style scoped>\n",
       "    .dataframe tbody tr th:only-of-type {\n",
       "        vertical-align: middle;\n",
       "    }\n",
       "\n",
       "    .dataframe tbody tr th {\n",
       "        vertical-align: top;\n",
       "    }\n",
       "\n",
       "    .dataframe thead th {\n",
       "        text-align: right;\n",
       "    }\n",
       "</style>\n",
       "<table border=\"1\" class=\"dataframe\">\n",
       "  <thead>\n",
       "    <tr style=\"text-align: right;\">\n",
       "      <th></th>\n",
       "      <th>TripID</th>\n",
       "      <th>StartDate</th>\n",
       "      <th>StartTime</th>\n",
       "      <th>EndDate</th>\n",
       "      <th>EndTime</th>\n",
       "      <th>TripDuration</th>\n",
       "      <th>TripDistance</th>\n",
       "      <th>StartLatitude</th>\n",
       "      <th>StartLongitude</th>\n",
       "      <th>EndLatitude</th>\n",
       "      <th>EndLongitude</th>\n",
       "      <th>DayOfWeek</th>\n",
       "      <th>HourNum</th>\n",
       "    </tr>\n",
       "  </thead>\n",
       "  <tbody>\n",
       "    <tr>\n",
       "      <th>0</th>\n",
       "      <td>b51ca9cd-0c7a-9f6e-ee00-71296f30</td>\n",
       "      <td>2018-01-09</td>\n",
       "      <td>18:15</td>\n",
       "      <td>2018-09-01</td>\n",
       "      <td>18:30</td>\n",
       "      <td>6</td>\n",
       "      <td>0.53</td>\n",
       "      <td>38.257</td>\n",
       "      <td>-85.757</td>\n",
       "      <td>38.259</td>\n",
       "      <td>-85.752</td>\n",
       "      <td>7</td>\n",
       "      <td>18</td>\n",
       "    </tr>\n",
       "    <tr>\n",
       "      <th>1</th>\n",
       "      <td>ebee0316-6ce2-99ed-6997-6b37d771</td>\n",
       "      <td>2018-01-09</td>\n",
       "      <td>10:30</td>\n",
       "      <td>2018-09-01</td>\n",
       "      <td>11:15</td>\n",
       "      <td>33</td>\n",
       "      <td>5.12</td>\n",
       "      <td>38.254</td>\n",
       "      <td>-85.754</td>\n",
       "      <td>38.259</td>\n",
       "      <td>-85.756</td>\n",
       "      <td>7</td>\n",
       "      <td>10</td>\n",
       "    </tr>\n",
       "    <tr>\n",
       "      <th>2</th>\n",
       "      <td>5b16dfac-7209-a839-1aa0-898532ba</td>\n",
       "      <td>2018-01-09</td>\n",
       "      <td>15:00</td>\n",
       "      <td>2018-09-01</td>\n",
       "      <td>15:15</td>\n",
       "      <td>14</td>\n",
       "      <td>1.37</td>\n",
       "      <td>38.252</td>\n",
       "      <td>-85.754</td>\n",
       "      <td>38.251</td>\n",
       "      <td>-85.759</td>\n",
       "      <td>7</td>\n",
       "      <td>15</td>\n",
       "    </tr>\n",
       "    <tr>\n",
       "      <th>3</th>\n",
       "      <td>1a654fe9-9d7a-20c1-94f0-774b7f31</td>\n",
       "      <td>2018-01-09</td>\n",
       "      <td>10:45</td>\n",
       "      <td>2018-09-01</td>\n",
       "      <td>13:15</td>\n",
       "      <td>140</td>\n",
       "      <td>3.48</td>\n",
       "      <td>38.253</td>\n",
       "      <td>-85.739</td>\n",
       "      <td>38.256</td>\n",
       "      <td>-85.736</td>\n",
       "      <td>7</td>\n",
       "      <td>10</td>\n",
       "    </tr>\n",
       "    <tr>\n",
       "      <th>4</th>\n",
       "      <td>89537a09-72db-94cc-d844-a8b750e6</td>\n",
       "      <td>2018-01-09</td>\n",
       "      <td>9:00</td>\n",
       "      <td>2018-09-01</td>\n",
       "      <td>9:00</td>\n",
       "      <td>4</td>\n",
       "      <td>0.17</td>\n",
       "      <td>38.253</td>\n",
       "      <td>-85.754</td>\n",
       "      <td>38.253</td>\n",
       "      <td>-85.754</td>\n",
       "      <td>7</td>\n",
       "      <td>9</td>\n",
       "    </tr>\n",
       "  </tbody>\n",
       "</table>\n",
       "</div>"
      ],
      "text/plain": [
       "                             TripID  StartDate StartTime    EndDate EndTime  \\\n",
       "0  b51ca9cd-0c7a-9f6e-ee00-71296f30 2018-01-09     18:15 2018-09-01   18:30   \n",
       "1  ebee0316-6ce2-99ed-6997-6b37d771 2018-01-09     10:30 2018-09-01   11:15   \n",
       "2  5b16dfac-7209-a839-1aa0-898532ba 2018-01-09     15:00 2018-09-01   15:15   \n",
       "3  1a654fe9-9d7a-20c1-94f0-774b7f31 2018-01-09     10:45 2018-09-01   13:15   \n",
       "4  89537a09-72db-94cc-d844-a8b750e6 2018-01-09      9:00 2018-09-01    9:00   \n",
       "\n",
       "   TripDuration  TripDistance  StartLatitude  StartLongitude  EndLatitude  \\\n",
       "0             6          0.53         38.257         -85.757       38.259   \n",
       "1            33          5.12         38.254         -85.754       38.259   \n",
       "2            14          1.37         38.252         -85.754       38.251   \n",
       "3           140          3.48         38.253         -85.739       38.256   \n",
       "4             4          0.17         38.253         -85.754       38.253   \n",
       "\n",
       "   EndLongitude  DayOfWeek  HourNum  \n",
       "0       -85.752          7       18  \n",
       "1       -85.756          7       10  \n",
       "2       -85.759          7       15  \n",
       "3       -85.736          7       10  \n",
       "4       -85.754          7        9  "
      ]
     },
     "execution_count": 2,
     "metadata": {},
     "output_type": "execute_result"
    }
   ],
   "source": [
    "df['StartDate'] =pd.to_datetime(df.StartDate)\n",
    "df['EndDate'] =pd.to_datetime(df.EndDate)\n",
    "df = df.sort_values(by='StartDate') # This now sorts in date order\n",
    "df.reset_index(inplace=True, drop=True)\n",
    "df.head()"
   ]
  },
  {
   "cell_type": "code",
   "execution_count": 53,
   "metadata": {},
   "outputs": [],
   "source": [
    "#create afunction for choosing date.\n",
    "def date_splitter(dataframe,start_date,end_date):\n",
    "    start_date = '2018-08-09'\n",
    "    end_date = '2018-08-30'\n",
    "    name = (df['StartDate'] >= start_date) & (df['StartDate'] <= end_date)\n",
    "    return name\n",
    "start_date = '2018-08-09'\n",
    "end_date ='2018-08-30'\n",
    "\n",
    "mask = date_splitter(df,start_date,end_date)        \n"
   ]
  },
  {
   "cell_type": "code",
   "execution_count": 54,
   "metadata": {},
   "outputs": [
    {
     "name": "stdout",
     "output_type": "stream",
     "text": [
      "['2018-08-09T00:00:00.000000000' '2018-08-10T00:00:00.000000000'\n",
      " '2018-08-11T00:00:00.000000000' '2018-08-12T00:00:00.000000000'\n",
      " '2018-08-13T00:00:00.000000000' '2018-08-14T00:00:00.000000000'\n",
      " '2018-08-15T00:00:00.000000000' '2018-08-16T00:00:00.000000000'\n",
      " '2018-08-17T00:00:00.000000000' '2018-08-18T00:00:00.000000000'\n",
      " '2018-08-19T00:00:00.000000000' '2018-08-20T00:00:00.000000000'\n",
      " '2018-08-21T00:00:00.000000000' '2018-08-22T00:00:00.000000000'\n",
      " '2018-08-23T00:00:00.000000000' '2018-08-24T00:00:00.000000000'\n",
      " '2018-08-25T00:00:00.000000000' '2018-08-26T00:00:00.000000000'\n",
      " '2018-08-27T00:00:00.000000000' '2018-08-28T00:00:00.000000000'\n",
      " '2018-08-29T00:00:00.000000000' '2018-08-30T00:00:00.000000000']\n"
     ]
    }
   ],
   "source": [
    "\n",
    "df_one = df.loc[mask]\n",
    "df_one.iloc[-1]\n",
    "unique = df_one['StartDate'].unique()\n",
    "print(unique)"
   ]
  },
  {
   "cell_type": "code",
   "execution_count": 96,
   "metadata": {},
   "outputs": [
    {
     "data": {
      "text/plain": [
       "array(['2018-08-09T00:00:00.000000000', '2018-08-10T00:00:00.000000000',\n",
       "       '2018-08-11T00:00:00.000000000', '2018-08-12T00:00:00.000000000',\n",
       "       '2018-08-13T00:00:00.000000000', '2018-08-14T00:00:00.000000000',\n",
       "       '2018-08-15T00:00:00.000000000', '2018-08-16T00:00:00.000000000',\n",
       "       '2018-08-17T00:00:00.000000000', '2018-08-18T00:00:00.000000000',\n",
       "       '2018-08-19T00:00:00.000000000', '2018-08-20T00:00:00.000000000',\n",
       "       '2018-08-21T00:00:00.000000000', '2018-08-22T00:00:00.000000000',\n",
       "       '2018-08-23T00:00:00.000000000', '2018-08-24T00:00:00.000000000',\n",
       "       '2018-08-25T00:00:00.000000000', '2018-08-26T00:00:00.000000000',\n",
       "       '2018-08-27T00:00:00.000000000', '2018-08-28T00:00:00.000000000',\n",
       "       '2018-08-29T00:00:00.000000000', '2018-08-30T00:00:00.000000000'],\n",
       "      dtype='datetime64[ns]')"
      ]
     },
     "execution_count": 96,
     "metadata": {},
     "output_type": "execute_result"
    }
   ],
   "source": [
    "freq = df_one['StartDate']\n",
    "type(freq)\n",
    "f = pd.DataFrame(freq)\n",
    "f.sort_values(by='StartDate')\n"
   ]
  },
  {
   "cell_type": "code",
   "execution_count": null,
   "metadata": {},
   "outputs": [],
   "source": []
  }
 ],
 "metadata": {
  "kernelspec": {
   "display_name": "Python 3",
   "language": "python",
   "name": "python3"
  },
  "language_info": {
   "codemirror_mode": {
    "name": "ipython",
    "version": 3
   },
   "file_extension": ".py",
   "mimetype": "text/x-python",
   "name": "python",
   "nbconvert_exporter": "python",
   "pygments_lexer": "ipython3",
   "version": "3.7.7"
  }
 },
 "nbformat": 4,
 "nbformat_minor": 4
}
